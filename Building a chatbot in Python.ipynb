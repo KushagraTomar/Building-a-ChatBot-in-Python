{
 "cells": [
  {
   "cell_type": "code",
   "execution_count": 1,
   "id": "1aec6a6f",
   "metadata": {},
   "outputs": [],
   "source": [
    "import numpy as np\n",
    "import nltk\n",
    "import string\n",
    "import random"
   ]
  },
  {
   "cell_type": "code",
   "execution_count": 2,
   "id": "5d315415",
   "metadata": {},
   "outputs": [
    {
     "name": "stderr",
     "output_type": "stream",
     "text": [
      "[nltk_data] Downloading package punkt to C:\\Users\\KUSHAGRA\n",
      "[nltk_data]     TOMAR\\AppData\\Roaming\\nltk_data...\n",
      "[nltk_data]   Package punkt is already up-to-date!\n",
      "[nltk_data] Downloading package wordnet to C:\\Users\\KUSHAGRA\n",
      "[nltk_data]     TOMAR\\AppData\\Roaming\\nltk_data...\n",
      "[nltk_data]   Package wordnet is already up-to-date!\n"
     ]
    }
   ],
   "source": [
    "f = open('chatbot.txt','r',errors = 'ignore')\n",
    "raw_doc = f.read().lower()\n",
    "nltk.download('punkt')\n",
    "nltk.download('wordnet')\n",
    "sent_tokens = nltk.sent_tokenize(raw_doc)\n",
    "word_tokens = nltk.word_tokenize(raw_doc)"
   ]
  },
  {
   "cell_type": "code",
   "execution_count": 3,
   "id": "ebbb0b32",
   "metadata": {},
   "outputs": [
    {
     "name": "stdout",
     "output_type": "stream",
     "text": [
      "['india is the seventh largest country in the world by size and it boasts an incredibly diverse collection of landscapes which are bordered along the eastern, western and southern coast by the bay of bengal, the arabian sea and the indian ocean respectively.', 'in the north, the country shares its borders with bangladesh, china, nepal, bhutan, myanmar and pakistan, and just off the southern coast â€“ alongside a number of islands â€“ lies sri lanka.']\n"
     ]
    }
   ],
   "source": [
    "print(sent_tokens[:2])"
   ]
  },
  {
   "cell_type": "code",
   "execution_count": 4,
   "id": "33222da4",
   "metadata": {},
   "outputs": [
    {
     "name": "stdout",
     "output_type": "stream",
     "text": [
      "['india', 'is']\n"
     ]
    }
   ],
   "source": [
    "print(word_tokens[:2])"
   ]
  },
  {
   "cell_type": "code",
   "execution_count": 5,
   "id": "d818900c",
   "metadata": {},
   "outputs": [],
   "source": [
    "# TEXT PREPROCESSING\n",
    "lemmer = nltk.stem.WordNetLemmatizer()\n",
    "\n",
    "def LemTokens(tokens):\n",
    "    return [lemmer.lemmatize(token) for token in tokens]\n",
    "\n",
    "post_punc = dict((ord(punct), None) for punct in string.punctuation)\n",
    "\n",
    "def LemNormalize(text):\n",
    "    return LemTokens(nltk.word_tokenize(text.lower().translate(post_punc)))"
   ]
  },
  {
   "cell_type": "code",
   "execution_count": 6,
   "id": "bd0ea84c",
   "metadata": {},
   "outputs": [],
   "source": [
    "inputs = (\"hello\", \"hi\", \"greetings\", \"sup\", \"whats up\", \"hey\")\n",
    "responses = [\"hi\", \"hey\", \"nods\", \"hi there\", \"hello\", \"i am glad! You are taking to me\"]\n",
    "\n",
    "def greet(sentence):\n",
    "    for word in sentence.split():\n",
    "        if word.lower() in inputs:\n",
    "            return random.choice(responses)"
   ]
  },
  {
   "cell_type": "code",
   "execution_count": 7,
   "id": "d485fcf3",
   "metadata": {},
   "outputs": [],
   "source": [
    "from sklearn.feature_extraction.text import TfidfVectorizer\n",
    "from sklearn.metrics.pairwise import cosine_similarity"
   ]
  },
  {
   "cell_type": "code",
   "execution_count": 8,
   "id": "b2df5d6e",
   "metadata": {},
   "outputs": [],
   "source": [
    "def response(user_response):\n",
    "    robo1_response=''\n",
    "    TfidfVec = TfidfVectorizer(tokenizer=LemNormalize, stop_words='english')\n",
    "    tfidf = TfidfVec.fit_transform(sent_tokens)\n",
    "    vals = cosine_similarity(tfidf[-1], tfidf)\n",
    "    idx = vals.argsort()[0][-2]\n",
    "    flat = vals.flatten()\n",
    "    flat.sort()\n",
    "    req_tfidf = flat[-2]\n",
    "    if(req_tfidf==0):\n",
    "        robo1_response = robo1_response+\"I am sorry! I dont understand you\"\n",
    "        return robo1_response\n",
    "    else:\n",
    "        robo1_response = robo1_response+sent_tokens[idx]\n",
    "        return robo1_response"
   ]
  },
  {
   "cell_type": "code",
   "execution_count": 10,
   "id": "2a4bb20a",
   "metadata": {
    "scrolled": true
   },
   "outputs": [
    {
     "name": "stdout",
     "output_type": "stream",
     "text": [
      "BOT: My name is Stark!, You can ask me about India's Climate and Geography\n",
      "climate\n",
      "BOT: in terms of climate, india can be divided into a number of regions.\n",
      "humid\n",
      "BOT: in northern parts there is a humid tropical climate and along the western coast lies wet tropical areas.\n",
      "summaer\n",
      "BOT: I am sorry! I dont understand you\n",
      "summer\n",
      "BOT: across the state of uttar pradesh the summers can be extremely hot while october to march brings more pleasantly cool weather.\n",
      "cold\n",
      "BOT: this takes place largely in the northern mountainous regions which include the cold, arid and windswept himalayas.\n",
      "rain\n",
      "BOT: july to september brings the monsoon rains which supply around three-quarters of the countries yearly rainfall.\n",
      "cloud\n",
      "BOT: I am sorry! I dont understand you\n",
      "bihar\n",
      "BOT: this is the pre-monsoon season (though thunderstorms are experienced in the north-eastern and eastern parts of bihar, assam and west bengal while in the plains of north-west india, hot and dry winds are common).\n",
      "bye\n",
      "BOT: Goodbye!\n"
     ]
    }
   ],
   "source": [
    "flag = True\n",
    "print(\"BOT: My name is Stark!, You can ask me about India's Climate and Geography\")\n",
    "while(flag==True):\n",
    "    user_response = input()\n",
    "    user_response = user_response.lower()\n",
    "    if(user_response!='bye'):\n",
    "        if(user_response=='thanks' or user_response=='thank you'):\n",
    "            flag=False\n",
    "            print(\"BOT: You are Welcome...\")\n",
    "        else:\n",
    "            if(greet(user_response)!=None):\n",
    "                print(\"BOT: \"+greet(user_response))\n",
    "            else:\n",
    "                sent_tokens.append(user_response)\n",
    "                word_tokens = word_tokens + nltk.word_tokenize(user_response)\n",
    "                final_words = list(set(word_tokens))\n",
    "                print(\"BOT: \",end=\"\")\n",
    "                print(response(user_response))\n",
    "                sent_tokens.remove(user_response)\n",
    "    else: \n",
    "        flag = False\n",
    "        print(\"BOT: Goodbye!\")\n"
   ]
  }
 ],
 "metadata": {
  "kernelspec": {
   "display_name": "Python 3 (ipykernel)",
   "language": "python",
   "name": "python3"
  },
  "language_info": {
   "codemirror_mode": {
    "name": "ipython",
    "version": 3
   },
   "file_extension": ".py",
   "mimetype": "text/x-python",
   "name": "python",
   "nbconvert_exporter": "python",
   "pygments_lexer": "ipython3",
   "version": "3.9.7"
  }
 },
 "nbformat": 4,
 "nbformat_minor": 5
}
